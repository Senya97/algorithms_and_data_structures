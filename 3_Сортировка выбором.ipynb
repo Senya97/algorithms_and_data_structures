{
 "cells": [
  {
   "cell_type": "markdown",
   "metadata": {},
   "source": [
    "# Сортировка выбором"
   ]
  },
  {
   "cell_type": "markdown",
   "metadata": {},
   "source": [
    "- Сложность во всех случаях $O(N^2)$\n",
    "- Неустойчивая сортировка\n",
    "- Сортировка на месте"
   ]
  },
  {
   "cell_type": "markdown",
   "metadata": {},
   "source": [
    "**Алгоритм:**\n",
    "    \n",
    "    Берем первый элемент.\n",
    "    Начиная со второго начинаем искать наименьший элемент в массиве и меняем их местами.\n",
    "    Получаем окончательно отсортированную часть массива.\n",
    "    Начиная со следующего элемента повторяем алгоритм."
   ]
  },
  {
   "cell_type": "code",
   "execution_count": 14,
   "metadata": {},
   "outputs": [],
   "source": [
    "def choise_sort(array, ascending=True):\n",
    "    n = len(array)\n",
    "    for top in range(n-1):\n",
    "        for m in range(top+1, n):\n",
    "            if ascending:\n",
    "                if array[m] < array[top]:\n",
    "                    array[m], array[top] = array[top], array[m] \n",
    "            else:\n",
    "                if array[m] > array[top]:\n",
    "                    array[m], array[top] = array[top], array[m]\n",
    "    return array"
   ]
  },
  {
   "cell_type": "code",
   "execution_count": 12,
   "metadata": {},
   "outputs": [],
   "source": [
    "array = [1,2,3,4,5,6,7,8,9,10,1,2,3,4,5,6,7,8,9,10]"
   ]
  },
  {
   "cell_type": "code",
   "execution_count": 16,
   "metadata": {},
   "outputs": [
    {
     "data": {
      "text/plain": [
       "[10, 10, 9, 9, 8, 8, 7, 7, 6, 6, 5, 5, 4, 4, 3, 3, 2, 2, 1, 1]"
      ]
     },
     "execution_count": 16,
     "metadata": {},
     "output_type": "execute_result"
    }
   ],
   "source": [
    "choise_sort(array, ascending=False)"
   ]
  },
  {
   "cell_type": "code",
   "execution_count": null,
   "metadata": {},
   "outputs": [],
   "source": []
  }
 ],
 "metadata": {
  "kernelspec": {
   "display_name": "Python 3",
   "language": "python",
   "name": "python3"
  },
  "language_info": {
   "codemirror_mode": {
    "name": "ipython",
    "version": 3
   },
   "file_extension": ".py",
   "mimetype": "text/x-python",
   "name": "python",
   "nbconvert_exporter": "python",
   "pygments_lexer": "ipython3",
   "version": "3.7.1"
  }
 },
 "nbformat": 4,
 "nbformat_minor": 2
}
